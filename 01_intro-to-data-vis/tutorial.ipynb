{
 "cells": [
  {
   "cell_type": "markdown",
   "id": "32d4d573-5dac-4817-9ec7-d55b03202133",
   "metadata": {},
   "source": [
    "# Preamble"
   ]
  },
  {
   "cell_type": "markdown",
   "id": "65bb24ef-24ab-4070-ae5c-1397d6bc5bd2",
   "metadata": {},
   "source": [
    "The purpose of this seminar is to introduce everyone to data manipulation and visualization in Python"
   ]
  },
  {
   "cell_type": "markdown",
   "id": "e63dbde7-8aa5-46bb-b64a-cf845dfccc7f",
   "metadata": {},
   "source": [
    "Goals from this seminar:\n",
    "- Know how to read in data from an excel sheet to Python\n",
    "- Understand how to create simple publication-quality visualizations\n",
    "\n",
    "*Not* goals from this seminar:\n",
    "- How to write programs in Python\n",
    "- Discussion of data structures/algorithms"
   ]
  },
  {
   "cell_type": "markdown",
   "id": "f4deb91f-1b91-4631-8555-7d67b1eb9568",
   "metadata": {},
   "source": [
    "# Step 1 - Setting up environment and modules"
   ]
  },
  {
   "cell_type": "markdown",
   "id": "d300ecb9-0b80-4eb0-9536-b0f2f151064d",
   "metadata": {},
   "source": [
    "We are currently running a [Jupyter-Lab notebook](https://jupyter.org). This is essentially a environment where one can run code in a browser. This is one way to run code, but it is not the only way! \n",
    "\n",
    "We are using this format because it allows interactive, immediate, and reproducible visualizations directly from the browser!"
   ]
  },
  {
   "cell_type": "markdown",
   "id": "d4111136-5c48-42a0-a3c3-d4a6b1430d93",
   "metadata": {},
   "source": [
    "Most scripts in Python use the below format to import modules.\n",
    "\n",
    "Q: What are modules?\n",
    "<details>\n",
    "  <summary>Click for answer!</summary>\n",
    "A: Modules are bits of code that people can create and share with others. Rather than reinvent the wheel everytime, we can  leverage the hard work and skills of others to help us! \n",
    "</details>\n"
   ]
  },
  {
   "cell_type": "markdown",
   "id": "f812a54a-4f43-4608-9f6a-a346d37aeb28",
   "metadata": {},
   "source": [
    "Here we import 2 modules. [Pandas](https://pandas.pydata.org/pandas-docs/stable/index.html) and [seaborn](https://seaborn.pydata.org/). Click on both links and read a bit about them to understand what they do."
   ]
  },
  {
   "cell_type": "code",
   "execution_count": null,
   "id": "8a2b22f5-a76f-4a4b-8ee3-9185e51a1719",
   "metadata": {},
   "outputs": [],
   "source": [
    "# Step 1: Importing necessary libraries\n",
    "import pandas as pd\n",
    "import seaborn as sns\n",
    "import matplotlib.pyplot as plt"
   ]
  },
  {
   "cell_type": "markdown",
   "id": "da78622f-9f5f-4cbb-b7a5-66b45382420c",
   "metadata": {},
   "source": [
    "# Step 2 - Finding and understanding our data"
   ]
  },
  {
   "cell_type": "markdown",
   "id": "050cffe3-23a6-4299-88cf-015f2b579749",
   "metadata": {},
   "source": [
    "For this seminar, we will begin by looking at some data that was collected for a [study](https://www.cgdev.org/sites/default/files/9267_file_CGDWP95_Feb_2007.pdf) in 2006 by Clemens and Pettersson. \n",
    "Here is the abstract:\n",
    "> The migration of doctors and nurses from Africa to rich countries has raised fears of an African **medical brain drain.** But empirical research on the issue has been hampered by lack of data. **How many doctors and nurses have left Africa? Which countries did they leave? Where have they settled?** To answer these questions we have compiled a dataset of the cumulative bilateral net flows of African-born physicians and nurses to the nine most important destination countries. It is the first dataset of bilateral migration flows specific to a skilled profession collected systematically for a large number of developing countries. This note makes the data available to the research community. "
   ]
  },
  {
   "cell_type": "markdown",
   "id": "0c4a64ed-b8a3-411a-b5fe-165cb85e247c",
   "metadata": {},
   "source": [
    "They were kind enough to provide an excel spreadsheet of their data! You can download a copy [here](https://www.cgdev.org/sites/default/files/archive/doc/Data/Africa_health_emigration.xls)\n",
    "\n",
    "Open up the excel spreadsheet and look through it. Note the format, layout, and different fields. What types of questions would you want to ask and answer with this data?"
   ]
  },
  {
   "cell_type": "markdown",
   "id": "5e91f244-bf5a-4455-9ee7-037089da20e6",
   "metadata": {},
   "source": [
    "# Step 3 - Reading in the data"
   ]
  },
  {
   "cell_type": "markdown",
   "id": "635f146c-41dd-4e70-8e35-e107062c24ef",
   "metadata": {},
   "source": [
    "Let's read it in! Luckily `pandas` has an in-built method to read in excel spreadsheets. You can find the instructions (documentation) for it [here](https://pandas.pydata.org/pandas-docs/stable/reference/api/pandas.read_excel.html).\n",
    "\n",
    "Scroll down and look at the examples they have. Think about how they work and see if you can understand the basics."
   ]
  },
  {
   "cell_type": "code",
   "execution_count": null,
   "id": "15cd7223-5e26-49c3-b26f-e90a76dad0b1",
   "metadata": {},
   "outputs": [],
   "source": [
    "# Reading the excel file via the imported libraries\n",
    "pd.read_excel(\n",
    "    \n",
    "    # identifying the path to the file\n",
    "    \"./african-health-emigration_clemens-pettersson-2006.xls\",\n",
    ")"
   ]
  },
  {
   "cell_type": "markdown",
   "id": "60fa4a79-d00b-49cf-9dd9-f9385bca50d5",
   "metadata": {},
   "source": [
    "What do you notice about the data. How is it read in and what are the issues you see with it?\n",
    "\n",
    "Let's try reading it in again, this time we'll specify a header row"
   ]
  },
  {
   "cell_type": "code",
   "execution_count": null,
   "id": "f4d9ee70-e78e-45d6-9275-d98f32d3efb1",
   "metadata": {
    "scrolled": true
   },
   "outputs": [],
   "source": [
    "doctor_data = pd.read_excel(\n",
    "    \"./african-health-emigration_clemens-pettersson-2006.xls\",\n",
    "    header=5, # The digit \"5\" indicates the index of the row to be considered as HEADER\n",
    ")\n",
    "doctor_data # Recalling the variable "
   ]
  },
  {
   "cell_type": "markdown",
   "id": "d862a2f8-bdf4-4687-acef-958f212593f9",
   "metadata": {},
   "source": [
    "This looks better! Take a look at the `Total abroad` & `Frac.**` columns. How are they calculated? Also scroll to the bottom and see the rows past 53. How did the authors get these numbers?\n",
    "\n",
    "*General rule of thumb* -- **Never** trust another person's calculations. You already have the raw data! Let's calculate these numbers ourselves. \n",
    "\n",
    "But first, let's get rid of the author's calculated areas."
   ]
  },
  {
   "cell_type": "code",
   "execution_count": null,
   "id": "7587ad68-7435-43b0-b4fc-d702f1d71799",
   "metadata": {
    "scrolled": true
   },
   "outputs": [],
   "source": [
    "doctor_data = pd.read_excel(\n",
    "    \"./african-health-emigration_clemens-pettersson-2006.xls\",\n",
    "    header=5,\n",
    "    usecols=[ # parameter indicating the columns to be used (of interest)\n",
    "        \"Sending country\",\n",
    "        \"Domestic*\",\n",
    "        \"UK\",\n",
    "        \"USA\",\n",
    "        \"France\",\n",
    "        \"Canada\",\n",
    "        \"Australia\",\n",
    "        \"Portugal\",\n",
    "        \"Spain\",\n",
    "        \"Belgium\",\n",
    "        \"So. Africa\",\n",
    "    ],\n",
    ")\n",
    "doctor_data = doctor_data.truncate(after=52) # after 52 because we want to remove everything after the 52th row\n",
    "doctor_data"
   ]
  },
  {
   "cell_type": "markdown",
   "id": "b455de28-e961-41b4-ac66-7755f0dcaf0a",
   "metadata": {},
   "source": [
    "## Nice! Now let's compute the `Total abroad` and `Fraction` columns.\n",
    "\n",
    "How would we learn how to do this? *Look it up!*"
   ]
  },
  {
   "cell_type": "markdown",
   "id": "93f3453e-1043-4fb9-8606-9b1df7ccc148",
   "metadata": {},
   "source": [
    "Q: How would I create a new column `Total abroad` by adding `UK - So. Africa`?\n",
    "<details>\n",
    "  <summary>Click for answer!</summary>\n",
    "\n",
    "### Option 1:    \n",
    "```\n",
    "doctor_data['Total abroad'] = doctor_data['UK'] +\n",
    "                                  doctor_data['USA'] +\n",
    "                                  doctor_data['France'] +\n",
    "                                  doctor_data['Canada'] +\n",
    "                                  doctor_data['Australia'] +\n",
    "                                  doctor_data['Portugal'] +\n",
    "                                  doctor_data['Spain'] +\n",
    "                                  doctor_data['Belgium'] +\n",
    "                                  doctor_data['So. Africa']\n",
    "```\n",
    "\n",
    "### Option 2:                                  \n",
    "\n",
    "```\n",
    "doctor_data['Total abroad'] = doctor_data[[\n",
    "                                    'UK', \n",
    "                                    'USA', \n",
    "                                    'France', \n",
    "                                    'Canada', \n",
    "                                    'Australia', \n",
    "                                    'Portugal',\n",
    "                                    'Spain',\n",
    "                                    'Belgium',\n",
    "                                    'So. Africa'\n",
    "                                ]].sum(axis=1)\n",
    "```\n",
    "\n",
    "### Option 3:                                \n",
    "\n",
    "```\n",
    "doctor_data['Total abroad'] = doctor_data[\n",
    "                                    doctor_data.columns[\n",
    "                                        ~doctor_data.columns.isin(\n",
    "                                            ['Sending country','Domestic*']\n",
    "                                        )\n",
    "                                    ]\n",
    "                                  ].sum(axis=1)\n",
    "```\n",
    "</details>"
   ]
  },
  {
   "cell_type": "code",
   "execution_count": null,
   "id": "03914404-7e90-431c-a98d-88d3f083dad8",
   "metadata": {},
   "outputs": [],
   "source": [
    "doctor_data[\"Total abroad\"] = doctor_data[\n",
    "    [\n",
    "        \"UK\",\n",
    "        \"USA\",\n",
    "        \"France\",\n",
    "        \"Canada\",\n",
    "        \"Australia\",\n",
    "        \"Portugal\",\n",
    "        \"Spain\",\n",
    "        \"Belgium\",\n",
    "        \"So. Africa\",\n",
    "    ]\n",
    "].sum(axis=1)"
   ]
  },
  {
   "cell_type": "markdown",
   "id": "3d652ce2-0dae-4106-9ccd-fc0435d37872",
   "metadata": {},
   "source": [
    "!!! What is going on?? Read the error message and think about how you might resolve this issue?\n",
    "\n",
    "**_A good place to start is to identify if this works on a SMALL SCALE. Let's try making the sum just between French speaking countries_**"
   ]
  },
  {
   "cell_type": "code",
   "execution_count": null,
   "id": "258a65ea-c366-4bcb-a15c-47b20b312291",
   "metadata": {
    "scrolled": true
   },
   "outputs": [],
   "source": [
    "doctor_data[\"Total abroad\"] = doctor_data[[\"France\", \"Belgium\"]].sum(axis=1) # setting the column components\n",
    "doctor_data[[\"Sending country\", \"France\", \"Belgium\", \"Total abroad\"]] # printing the columns "
   ]
  },
  {
   "cell_type": "markdown",
   "id": "cb5f7c8c-d6cd-4834-9e97-569c345aedbe",
   "metadata": {},
   "source": [
    "Eureka!! This works! What if we add more countries..."
   ]
  },
  {
   "cell_type": "code",
   "execution_count": null,
   "id": "05a38291-a2e2-406a-9d3d-e3f737bf6bbe",
   "metadata": {
    "scrolled": true
   },
   "outputs": [],
   "source": [
    "doctor_data[\"Total abroad\"] = doctor_data[[\"UK\", \"USA\", \"France\", \"Belgium\"]].sum(\n",
    "    axis=1\n",
    ") # adding UK and USA\n",
    "doctor_data[[\"Sending country\", \"UK\", \"USA\", \"France\", \"Belgium\", \"Total abroad\"]] # printing the results"
   ]
  },
  {
   "cell_type": "markdown",
   "id": "e4f80b75-da3a-403a-8992-3b8095a0c3e2",
   "metadata": {},
   "source": [
    "This works! What if we add different countries..."
   ]
  },
  {
   "cell_type": "code",
   "execution_count": null,
   "id": "cbf2cc48-4c32-4379-a6ab-f051d576b9e2",
   "metadata": {
    "scrolled": true
   },
   "outputs": [],
   "source": [
    "doctor_data[\"Total abroad\"] = doctor_data[\n",
    "    [\"Spain\", \"Portugal\", \"So. Africa\", \"France\", \"Belgium\"]\n",
    "].sum(axis=1)\n",
    "doctor_data[\n",
    "    [\n",
    "        \"Sending country\",\n",
    "        \"Spain\",\n",
    "        \"Portugal\",\n",
    "        \"So. Africa\",\n",
    "        \"France\",\n",
    "        \"Belgium\",\n",
    "        \"Total abroad\",\n",
    "    ]\n",
    "]"
   ]
  },
  {
   "cell_type": "markdown",
   "id": "2ca9db16-c50a-4ae5-8bef-7d97294e5b1e",
   "metadata": {},
   "source": [
    "Aah, so this fails! When you narrow it down further you find the inclusion of `So. Africa` messes up the sum. Why might this be the case?"
   ]
  },
  {
   "cell_type": "code",
   "execution_count": null,
   "id": "d656e77c-7f75-423b-8af7-65945d2649d2",
   "metadata": {
    "scrolled": true
   },
   "outputs": [],
   "source": [
    "doctor_data[[\"Sending country\", \"So. Africa\"]]"
   ]
  },
  {
   "cell_type": "markdown",
   "id": "17b5e7b9-77cd-4bf1-93c3-b45a0b6ff45a",
   "metadata": {},
   "source": [
    "Check out row 44, what is the value of that spot? It doesn't look like a number? Checking the excel file shows that they added a notation, but that's messing up the code. Let's replace that value with a number, and retry our sum code."
   ]
  },
  {
   "cell_type": "code",
   "execution_count": null,
   "id": "dcf3abfa-0a40-40c5-bc27-fc8b5184686c",
   "metadata": {
    "scrolled": true
   },
   "outputs": [],
   "source": [
    "doctor_data.at[44, \"So. Africa\"] = -834 # targetting specifically column: South Africa row: 44\n",
    "doctor_data[\"Total abroad\"] = doctor_data[\n",
    "    [\n",
    "        \"UK\",\n",
    "        \"USA\",\n",
    "        \"France\",\n",
    "        \"Canada\",\n",
    "        \"Australia\",\n",
    "        \"Portugal\",\n",
    "        \"Spain\",\n",
    "        \"Belgium\",\n",
    "        \"So. Africa\",\n",
    "    ]\n",
    "].sum(axis=1)\n",
    "doctor_data"
   ]
  },
  {
   "cell_type": "markdown",
   "id": "9ef7fc73-6ae7-4ac0-9cf7-7009db46682d",
   "metadata": {},
   "source": [
    "Lets now try to recompute the `Fraction` column... \n",
    "\n",
    "But wait, what data are we missing?"
   ]
  },
  {
   "cell_type": "code",
   "execution_count": null,
   "id": "0eb6e929-288a-4576-8c24-fa6bed8b5a31",
   "metadata": {},
   "outputs": [],
   "source": [
    "# generating the total number of doctors in countries\n",
    "doctor_data[\"Total doctors\"] = doctor_data[[\n",
    "    \"Domestic*\", \"Total abroad\"\n",
    "]].sum(axis=1)\n",
    "doctor_data"
   ]
  },
  {
   "cell_type": "code",
   "execution_count": null,
   "id": "7a05d925-f386-4c9b-abfb-1745c89c7081",
   "metadata": {
    "scrolled": true
   },
   "outputs": [],
   "source": [
    "# calculating the fraction of doctors abroad to the total doctors (if you want you can express this with percentages by multiplying the fraction by 100)\n",
    "doctor_data[\"Fraction abroad\"] = (\n",
    "    doctor_data[\"Total abroad\"] / doctor_data[\"Total doctors\"]\n",
    ")\n",
    "doctor_data"
   ]
  },
  {
   "cell_type": "markdown",
   "id": "47cf5cce-d32b-49cf-94b3-ff3698084c10",
   "metadata": {},
   "source": [
    "**Biratangaje! We now have everything we need to make some PLOTS**"
   ]
  },
  {
   "cell_type": "markdown",
   "id": "e0c0518a-d59c-4ad5-8d0b-adf0f3533fbd",
   "metadata": {},
   "source": [
    "# Step 4 - Visualizing the data"
   ]
  },
  {
   "cell_type": "markdown",
   "id": "9be7d1bb-a07b-4f79-a003-58563fbf8e07",
   "metadata": {},
   "source": [
    "Let's first try to recreate Figure 1 from their paper. They are using a bar plot to visualize the data, so let's [google how to make a bar plot in seaborn](https://letmegooglethat.com/?q=seaborn+bar+plot)\n",
    "\n",
    "After carefully reading the documentation and looking at the examples, we land on something like this:"
   ]
  },
  {
   "cell_type": "code",
   "execution_count": null,
   "id": "f1d7898a-ecb9-4b12-a396-4ad779d087e9",
   "metadata": {},
   "outputs": [],
   "source": [
    "# code of plotting the graphs\n",
    "ax = sns.barplot(\n",
    "    data=doctor_data,\n",
    "    x=\"Fraction abroad\",\n",
    "    y=\"Sending country\",\n",
    "    #color=sns.color_palette()[0]\n",
    ")"
   ]
  },
  {
   "cell_type": "markdown",
   "id": "7931be0b-076c-4ad8-80a3-0fe6cd8d11ca",
   "metadata": {},
   "source": [
    "Looks a little goofy! How can we increase the size of the plot?"
   ]
  },
  {
   "cell_type": "code",
   "execution_count": null,
   "id": "f4d647d3-8911-4dcc-a01a-0da22a01ed37",
   "metadata": {},
   "outputs": [],
   "source": [
    "ax = sns.barplot(\n",
    "    doctor_data,\n",
    "    x=\"Fraction abroad\",\n",
    "    y=\"Sending country\",\n",
    ")\n",
    "ax.figure.set_size_inches((5, 9)) # 5 and 9 indicates the size of the plots in inches. Note: You can multiply by your numbers of choice"
   ]
  },
  {
   "cell_type": "markdown",
   "id": "ba7e9306-91e6-4afc-8004-cc3899872ac6",
   "metadata": {},
   "source": [
    "Ooo, much better. Now let's [sort the values](https://pandas.pydata.org/pandas-docs/stable/reference/api/pandas.DataFrame.sort_values.html#pandas.DataFrame.sort_values) on the y-axis from highest fraction abroad to smallest"
   ]
  },
  {
   "cell_type": "code",
   "execution_count": null,
   "id": "61eaa6c2-b9f9-418a-8c15-c38029c3a473",
   "metadata": {},
   "outputs": [],
   "source": [
    "# Visualizing the data as it pleases us (the desired order)\n",
    "ax = sns.barplot(\n",
    "    doctor_data.sort_values(\"Fraction abroad\", ascending=True), # we mentioned the ascending to be false because we want to retain the descending order (desired order of view)\n",
    "    x=\"Fraction abroad\",\n",
    "    y=\"Sending country\",\n",
    ")\n",
    "ax.figure.set_size_inches((5, 9))"
   ]
  },
  {
   "cell_type": "markdown",
   "id": "cf123b6b-e45e-4051-9858-6835b8045063",
   "metadata": {},
   "source": [
    "Looking good! Let's also change the x-axis to go from 0 - 1."
   ]
  },
  {
   "cell_type": "code",
   "execution_count": null,
   "id": "92e94ddd-84b9-4668-8571-6f0e2a344f86",
   "metadata": {},
   "outputs": [],
   "source": [
    "# generating the plot similar to that one in the paper\n",
    "ax = sns.barplot(\n",
    "    doctor_data.sort_values(\"Fraction abroad\", ascending=False),\n",
    "    x=\"Fraction abroad\",\n",
    "    y=\"Sending country\",\n",
    ")\n",
    "ax.figure.set_size_inches((5, 9))\n",
    "ax.set(\n",
    "    xlim=(0, 1), # increasing the limit of the x-axis\n",
    "    title=\"Fraction of African-born physicians residing and working abroad circa 2000\",\n",
    "    xlabel=\"Fraction of physicians abroad, 2000\",\n",
    "    ylabel=\"\",\n",
    ")\n",
    "sns.despine()"
   ]
  },
  {
   "cell_type": "markdown",
   "id": "2f74d829-a5ba-4b27-8d3a-6bb209c229f2",
   "metadata": {},
   "source": [
    "Congrats! We successfully remade the plot from the paper! \n",
    "\n",
    "But, what are some other questions we can answer with this data? What are other insights we can get from this dataset?"
   ]
  },
  {
   "cell_type": "markdown",
   "id": "fd7b1762-ee68-4461-98cf-ebd3940d602a",
   "metadata": {},
   "source": [
    "# Step 5 - Break down some code"
   ]
  },
  {
   "cell_type": "code",
   "execution_count": null,
   "id": "6c629f4c-b7bb-4b0c-9920-5c4cf5bd922c",
   "metadata": {},
   "outputs": [],
   "source": [
    "# What does the melt function do? How would you figure it out?\n",
    "melted_doctor_data = pd.melt(\n",
    "    doctor_data,\n",
    "    id_vars=[\"Sending country\", \"Total doctors\", \"Total abroad\"],\n",
    "    value_vars=[\n",
    "        \"UK\",\n",
    "        \"USA\",\n",
    "        \"So. Africa\",\n",
    "        \"France\",\n",
    "        \"Belgium\",\n",
    "        \"Spain\",\n",
    "        \"Canada\",\n",
    "        \"Portugal\",\n",
    "        \"Australia\",\n",
    "    ],\n",
    "    var_name=\"Receiving country\",\n",
    "    value_name=\"Number_going\",\n",
    ")\n",
    "\n",
    "# What is going on here? What are the differences between 'Fraction_all_going' and 'Fraction_abroad_here'?\n",
    "melted_doctor_data[\"Fraction_all_going\"] = (\n",
    "    melted_doctor_data[\"Number_going\"] / melted_doctor_data[\"Total doctors\"]\n",
    ")\n",
    "melted_doctor_data[\"Fraction_abroad_here\"] = (\n",
    "    melted_doctor_data[\"Number_going\"] / melted_doctor_data[\"Total abroad\"]\n",
    ")"
   ]
  },
  {
   "cell_type": "code",
   "execution_count": null,
   "id": "a7e95f55-9dab-437f-a784-a5d93b7bfb1b",
   "metadata": {},
   "outputs": [],
   "source": [
    "# What can you estimate from this plot? What are some features you immediately notice?\n",
    "ax = sns.barplot(\n",
    "    # what is the loc command? What does it do?\n",
    "    melted_doctor_data.loc[\n",
    "        melted_doctor_data[\"Receiving country\"].isin([\"France\", \"Belgium\"])\n",
    "    ].sort_values(\"Fraction_abroad_here\", ascending=False),\n",
    "    x=\"Fraction_abroad_here\",\n",
    "    y=\"Sending country\",\n",
    "    hue=\"Receiving country\",\n",
    ")\n",
    "ax.figure.set_size_inches((15, 9))\n",
    "ax.set(\n",
    "    xlabel=\"Fraction of abroad physicians in Francophone countries, 2000\",\n",
    "    ylabel=\"Country of Origin\",\n",
    "    xlim=(0, 1),\n",
    ")\n",
    "sns.despine()"
   ]
  },
  {
   "cell_type": "code",
   "execution_count": null,
   "id": "24ba4d52-7aba-4302-ba86-b0bf6a96fb98",
   "metadata": {},
   "outputs": [],
   "source": [
    "# What can you estimate from this plot? What are some features you immediately notice? what are your (overall) observations?\n",
    "ax = sns.barplot(\n",
    "    melted_doctor_data.sort_values(\"Fraction_abroad_here\", ascending=False),\n",
    "    x=\"Fraction_abroad_here\",\n",
    "    y=\"Sending country\",\n",
    "    hue=\"Receiving country\",\n",
    ")\n",
    "ax.figure.set_size_inches((15, 9))\n",
    "ax.set(\n",
    "    xlabel=\"Fraction of abroad physicians, 2000\",\n",
    "    ylabel=\"Country of Origin\",\n",
    "    # what happens if I introduce the below commented code?\n",
    "    # xlim=(0, 1),\n",
    ")\n",
    "sns.despine()"
   ]
  },
  {
   "cell_type": "code",
   "execution_count": null,
   "id": "ed1275bb-0f6a-4a7a-bb70-0ea8e9ae0e9a",
   "metadata": {},
   "outputs": [],
   "source": [
    "# What can you estimate from this plot? What are some features you immediately notice? what are your (overall) observations?\n",
    "ax = sns.barplot(\n",
    "    melted_doctor_data[melted_doctor_data.sort_values(\"Fraction_abroad_here\", ascending=False)['Sending country'].isin(\n",
    "        [\"Rwanda\", \"Burundi\", \"Seychelles\", \"Uganda\", \"Congo, DR\"]\n",
    "    )],\n",
    "    x=\"Fraction_abroad_here\",\n",
    "    y=\"Sending country\",\n",
    "    hue=\"Receiving country\",\n",
    ")\n",
    "ax.figure.set_size_inches((15, 9))\n",
    "ax.set(\n",
    "    xlabel=\"Fraction of abroad physicians, 2000\",\n",
    "    ylabel=\"Country of Origin\",\n",
    "    # what happens if I introduce the below commented code?\n",
    "    # xlim=(0, 1),\n",
    ")\n",
    "sns.despine()"
   ]
  },
  {
   "cell_type": "markdown",
   "id": "e13b93d7-7bd5-4db8-937a-2db5607ff5de",
   "metadata": {},
   "source": [
    "Let's drill down into *Rwanda*, I hear it's a pretty cool country \n",
    "\n",
    "How would we focus on the subset of data pertaining to Rwanda?\n",
    "\n",
    "*Hint: Look at the above analysis and how we subset the data to only focus on Francophone receiving countries*"
   ]
  },
  {
   "cell_type": "code",
   "execution_count": null,
   "id": "d0a109b8-1f2a-4ad2-9d2b-9d926bcee63a",
   "metadata": {},
   "outputs": [],
   "source": [
    "rwanda_doctor_data = melted_doctor_data.loc[\n",
    "    melted_doctor_data[\"Sending country\"] == \"Rwanda\"\n",
    "]\n",
    "rwanda_doctor_data"
   ]
  },
  {
   "cell_type": "markdown",
   "id": "ec0cb6df-11c2-4e65-aecf-5dbb31d6ff5f",
   "metadata": {},
   "source": [
    "Here's some code to get started. How would you make the plot better?"
   ]
  },
  {
   "cell_type": "code",
   "execution_count": null,
   "id": "ea75f7fd-0360-49a6-bd16-5ebde387913f",
   "metadata": {},
   "outputs": [],
   "source": [
    "sns.barplot(rwanda_doctor_data, x=\"Fraction_all_going\", y=\"Receiving country\")"
   ]
  },
  {
   "cell_type": "code",
   "execution_count": null,
   "id": "f4da9f8e-7753-4632-9561-7b7fd251f5d8",
   "metadata": {},
   "outputs": [],
   "source": [
    "# for you to tweak!\n",
    "sns.barplot(rwanda_doctor_data, x=\"Fraction_all_going\", y=\"Receiving country\")"
   ]
  },
  {
   "cell_type": "markdown",
   "id": "08200322-2e5b-4e91-bde9-743ef966898d",
   "metadata": {},
   "source": [
    "# Step 6 - Try on your own!"
   ]
  },
  {
   "cell_type": "markdown",
   "id": "4066ac5c-da20-4440-af57-43fe218ce86a",
   "metadata": {},
   "source": [
    "Now that we've gone through one example, let's try generating similar plots from the other dataset, Nurses!\n",
    "\n",
    "I've added some code to get you started!"
   ]
  },
  {
   "cell_type": "code",
   "execution_count": null,
   "id": "2c3ec805-5df9-4e1d-8049-4a90d34e2923",
   "metadata": {
    "scrolled": true
   },
   "outputs": [],
   "source": [
    "# hint: try adding header=5\n",
    "nurse_data = pd.read_excel(\n",
    "    \"./african-health-emigration_clemens-pettersson-2006.xls\",\n",
    "    sheet_name=\"Nurses\",\n",
    ")\n",
    "nurse_data"
   ]
  },
  {
   "cell_type": "code",
   "execution_count": null,
   "id": "d748a68a-6782-4837-81ec-b3c7d572a93b",
   "metadata": {},
   "outputs": [],
   "source": []
  },
  {
   "cell_type": "code",
   "execution_count": null,
   "id": "40880bd5-6482-4715-8dcc-16f0290cc681",
   "metadata": {},
   "outputs": [],
   "source": []
  },
  {
   "cell_type": "code",
   "execution_count": null,
   "id": "400d0a3e-d44d-4186-b843-fc12e6cd0801",
   "metadata": {},
   "outputs": [],
   "source": []
  },
  {
   "cell_type": "code",
   "execution_count": null,
   "id": "2261b303-447b-49a6-99d9-c02f513ba114",
   "metadata": {},
   "outputs": [],
   "source": []
  },
  {
   "cell_type": "markdown",
   "id": "a271d1c1-8e04-4187-ada0-ab10e2fc53bc",
   "metadata": {},
   "source": [
    "# Step 7 - Other data visualizations (Bonus)"
   ]
  },
  {
   "cell_type": "markdown",
   "id": "fcef71ec-1c25-4395-a66f-8e138938d5e2",
   "metadata": {},
   "source": [
    "Poke around the [Seaborn Examples](https://seaborn.pydata.org/examples/index.html) and try to imagine other creative ways to visualize the data."
   ]
  },
  {
   "cell_type": "code",
   "execution_count": null,
   "id": "773b0b88-a625-457f-b838-04d5610acae7",
   "metadata": {
    "scrolled": true
   },
   "outputs": [],
   "source": [
    "pivot_data = melted_doctor_data.pivot(\n",
    "    index=\"Receiving country\",\n",
    "    columns=\"Sending country\",\n",
    "    values=\"Fraction_abroad_here\",\n",
    ").astype('float64')\n",
    "pivot_data"
   ]
  },
  {
   "cell_type": "code",
   "execution_count": null,
   "id": "7e9454ea-4d91-4cfc-8e91-be3beb471c9a",
   "metadata": {},
   "outputs": [],
   "source": [
    "ax = sns.heatmap(pivot_data)\n",
    "ax.figure.set_size_inches((9, 9))"
   ]
  },
  {
   "cell_type": "code",
   "execution_count": null,
   "id": "f26b4618-03c2-41f3-ba5b-e04599d81dff",
   "metadata": {},
   "outputs": [],
   "source": [
    "eastafrica = [\"Burundi\", \"Comoros\", \"Djibouti\", \"Eritrea\", \"Ethiopia\", \"Kenya\",\n",
    "              \"Mauritius\", \"Rwanda\", \"Seychelles\", \"Somalia\",\"Sudan\",\n",
    "              \"Tanzania\", \"Uganda\"]\n",
    "ax = sns.clustermap(pivot_data[eastafrica], cmap=\"mako\", vmin=0, vmax=1)"
   ]
  },
  {
   "cell_type": "markdown",
   "id": "37afdf12-8c1b-44c4-b0e9-fbedcc1fdaaa",
   "metadata": {},
   "source": [
    "Could I make these plots interactive? \n",
    "Yes! Check out [Plotly]() and [ipywidgets](https://ipywidgets.readthedocs.io/en/latest/examples/Widget%20List.html)!"
   ]
  }
 ],
 "metadata": {
  "kernelspec": {
   "display_name": "Python 3 (ipykernel)",
   "language": "python",
   "name": "python3"
  },
  "language_info": {
   "codemirror_mode": {
    "name": "ipython",
    "version": 3
   },
   "file_extension": ".py",
   "mimetype": "text/x-python",
   "name": "python",
   "nbconvert_exporter": "python",
   "pygments_lexer": "ipython3",
   "version": "3.12.2"
  }
 },
 "nbformat": 4,
 "nbformat_minor": 5
}
