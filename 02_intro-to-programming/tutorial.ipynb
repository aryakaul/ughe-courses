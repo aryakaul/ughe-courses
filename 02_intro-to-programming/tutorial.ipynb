{
 "cells": [
  {
   "cell_type": "markdown",
   "id": "e12e518a-ed97-480e-919d-797641aa9fcb",
   "metadata": {},
   "source": [
    "# Preamble"
   ]
  },
  {
   "cell_type": "markdown",
   "id": "307adff7-cce8-4580-bb59-ddcb42b2bb84",
   "metadata": {},
   "source": [
    "In this lesson, we're going to introduce some basic concepts in programming. While we will be using Python in today's seminar, keep in mind that the concepts learned here will apply to *any* language."
   ]
  },
  {
   "cell_type": "markdown",
   "id": "fbd51dfe-4f5f-449d-bbc3-cfcd9fcb458c",
   "metadata": {},
   "source": [
    "# Data Types"
   ]
  },
  {
   "cell_type": "markdown",
   "id": "907fc9a3-6676-494b-86b5-e52c0624f9f8",
   "metadata": {},
   "source": [
    "Python contains a variety of data types we can use. The choice of which to use depends on what you are interested in studying."
   ]
  },
  {
   "cell_type": "markdown",
   "id": "0beb8a69-a441-4e30-a3f3-de7c4fac756e",
   "metadata": {},
   "source": [
    "## Booleans"
   ]
  },
  {
   "cell_type": "markdown",
   "id": "a01f7e11-e931-4d94-b16f-683637595fea",
   "metadata": {},
   "source": [
    "Booleans are perhaps the simplest data type. They have one of two values: True or False. This is where binary comes from!"
   ]
  },
  {
   "cell_type": "code",
   "execution_count": null,
   "id": "20863a18-a657-460a-a201-4f93eae395da",
   "metadata": {},
   "outputs": [],
   "source": [
    "x = True\n",
    "y = False"
   ]
  },
  {
   "cell_type": "code",
   "execution_count": null,
   "id": "8091bbaf-fab8-4d5a-851e-93f351501ed7",
   "metadata": {},
   "outputs": [],
   "source": [
    "print(type(x))"
   ]
  },
  {
   "cell_type": "markdown",
   "id": "709e6dcc-e5c0-415a-bee0-5da438eb54bd",
   "metadata": {},
   "source": [
    "**EXERCISE** - Complete the following code."
   ]
  },
  {
   "cell_type": "code",
   "execution_count": null,
   "id": "af9cf4bb-67fc-4547-ad26-ea15bcb3549d",
   "metadata": {},
   "outputs": [],
   "source": [
    "# set a variable 'z' to True\n",
    "# set another variable 'a' to False\n",
    "# print out both of these variables\n",
    "##### WRITE CODE BELOW THIS"
   ]
  },
  {
   "cell_type": "markdown",
   "id": "f0121305-b089-44b2-ac42-5065dbc5f722",
   "metadata": {},
   "source": [
    "## Strings"
   ]
  },
  {
   "cell_type": "markdown",
   "id": "2b8fe9f6-3d0d-4ce7-9246-a64edb772710",
   "metadata": {},
   "source": [
    "This data type concerns storing text in Python. Here are some examples"
   ]
  },
  {
   "cell_type": "code",
   "execution_count": null,
   "id": "da9276be-78bd-4964-ade9-ab0a02b85136",
   "metadata": {},
   "outputs": [],
   "source": [
    "x = \"Hello world\"\n",
    "print(x)"
   ]
  },
  {
   "cell_type": "code",
   "execution_count": null,
   "id": "3a22470e-2571-4e6c-b01a-c8ba0b2435ad",
   "metadata": {},
   "outputs": [],
   "source": [
    "y = 'We can also use single quotes'\n",
    "print(y)"
   ]
  },
  {
   "cell_type": "code",
   "execution_count": null,
   "id": "d960c79a-c9af-4835-a4b3-66b63908e2d5",
   "metadata": {},
   "outputs": [],
   "source": [
    "print(type(x))\n",
    "print(type(y))"
   ]
  },
  {
   "cell_type": "markdown",
   "id": "69f2ef87-d95a-41c4-afdc-67d8600b029a",
   "metadata": {},
   "source": [
    "**EXERCISE** - Complete the following code."
   ]
  },
  {
   "cell_type": "code",
   "execution_count": null,
   "id": "cbaacc24-a1e3-455f-b517-c470520e1931",
   "metadata": {},
   "outputs": [],
   "source": [
    "# set a variable 'a' to the string \"Arya is such a good teacher\"\n",
    "# print this string\n",
    "# Then reset the variable 'a' to a new string 'lol jk' and print that new string\n",
    "\n",
    "##### WRITE CODE BELOW THIS"
   ]
  },
  {
   "cell_type": "markdown",
   "id": "807e6e3d-ef37-4415-a985-1838c84ace4b",
   "metadata": {},
   "source": [
    "## Integers/Floats"
   ]
  },
  {
   "cell_type": "markdown",
   "id": "3da8d694-a484-491e-a0db-e8698440c8ad",
   "metadata": {},
   "source": [
    "These data types are for storing numbers in Python. If we want decimal point precision we can use 'floats' (float) otherwise 'integers' (int) can work. Note that all integers can be floats!"
   ]
  },
  {
   "cell_type": "code",
   "execution_count": null,
   "id": "7cec5ecd-4d7d-4f87-9c8e-9fb023c75484",
   "metadata": {},
   "outputs": [],
   "source": [
    "x = 3\n",
    "print(x)"
   ]
  },
  {
   "cell_type": "code",
   "execution_count": null,
   "id": "1c8fed80-9161-477c-a06c-b2395d08ddd5",
   "metadata": {},
   "outputs": [],
   "source": [
    "y = 5.4\n",
    "print(y)"
   ]
  },
  {
   "cell_type": "code",
   "execution_count": null,
   "id": "2518c393-575d-45b1-a2b6-f5ab42eb6580",
   "metadata": {},
   "outputs": [],
   "source": [
    "print(type(x))\n",
    "print(type(y))"
   ]
  },
  {
   "cell_type": "markdown",
   "id": "6ac6641e-1de2-4370-8f32-8f547c422e67",
   "metadata": {},
   "source": [
    "Even though `x` and `y` are different types of variables, Python is smart enough to add them together!"
   ]
  },
  {
   "cell_type": "code",
   "execution_count": null,
   "id": "eb450228-9060-42a5-975b-406a64eda551",
   "metadata": {},
   "outputs": [],
   "source": [
    "print(x + y)\n",
    "print(type(x+y))"
   ]
  },
  {
   "cell_type": "markdown",
   "id": "6d14066c-9901-4949-8c01-84f801be299c",
   "metadata": {},
   "source": [
    "Note how the resulting type is a `float`, this is because Python knows floats are more precise than integers so when we merge two datatypes together we want to have the output in the most precise datatype possible"
   ]
  },
  {
   "cell_type": "markdown",
   "id": "bf7ec597-ca39-414c-9303-78efa7de78be",
   "metadata": {},
   "source": [
    "Think about the code below. What do you expect to happen?"
   ]
  },
  {
   "cell_type": "code",
   "execution_count": null,
   "id": "e9e0b573-ea96-4d4d-8672-7faaf8b767e4",
   "metadata": {},
   "outputs": [],
   "source": [
    "x = \"3\"\n",
    "y = 5.0\n",
    "print(x + y)"
   ]
  },
  {
   "cell_type": "markdown",
   "id": "11787b40-15a1-4559-a2a4-9c89a7e049db",
   "metadata": {},
   "source": [
    "What about the following? What do you think will happen?"
   ]
  },
  {
   "cell_type": "code",
   "execution_count": null,
   "id": "f9d3f759-728c-4672-87f8-0da06e3afec3",
   "metadata": {},
   "outputs": [],
   "source": [
    "x = \"3\"\n",
    "y = \"5.0\"\n",
    "print(x+y)\n",
    "print(type(x+y))"
   ]
  },
  {
   "cell_type": "markdown",
   "id": "cac09272-83e5-4321-a270-a435ea0a1fa1",
   "metadata": {},
   "source": [
    "**EXERCISE** - Complete the following code."
   ]
  },
  {
   "cell_type": "code",
   "execution_count": null,
   "id": "cfe992e8-7d6b-4169-a49a-535e3e18a693",
   "metadata": {},
   "outputs": [],
   "source": [
    "# set a variable 'a' to the string \"4\"\n",
    "# set another variable 'b' to the float 3.5\n",
    "\n",
    "# write code to (1) convert the variable a to a integer\n",
    "# and then (2) multiply a and b\n",
    "# and then (3) round this product to a integer\n",
    "# print out this answer\n",
    "\n",
    "##### WRITE CODE BELOW THIS"
   ]
  },
  {
   "cell_type": "markdown",
   "id": "24c29c2a-18ed-45c1-964f-b73d8146c313",
   "metadata": {},
   "source": [
    "## Lists"
   ]
  },
  {
   "cell_type": "markdown",
   "id": "66fc0440-8efb-4261-a2b4-c617b876108a",
   "metadata": {},
   "source": [
    "`Lists` are lists of items in Python. You can imagine a line of individuals standing somewhere. This is what a list is! In other languages you might hear it called an array. This is the same thing!"
   ]
  },
  {
   "cell_type": "markdown",
   "id": "bd57ee4a-a2dc-4f12-8742-13898dd82f3c",
   "metadata": {},
   "source": [
    "To define a list we use square brackets '[]' and individual entries are separated by a ','. For example:"
   ]
  },
  {
   "cell_type": "code",
   "execution_count": null,
   "id": "3d81f22b-5f80-4e7e-80e8-499769bfeda2",
   "metadata": {},
   "outputs": [],
   "source": [
    "x = [\"first element\", \"second element\", \"third element\"]\n",
    "print(x)"
   ]
  },
  {
   "cell_type": "markdown",
   "id": "aa444be8-17ba-4c20-ad92-9e235bc3cd09",
   "metadata": {},
   "source": [
    "We can get individual elements in the list by using the `index` or the position that this element appears in:"
   ]
  },
  {
   "cell_type": "code",
   "execution_count": null,
   "id": "d1f51936-39a1-4859-a063-fb0d03e43dde",
   "metadata": {},
   "outputs": [],
   "source": [
    "x[1]"
   ]
  },
  {
   "cell_type": "markdown",
   "id": "ef2b7820-bb4a-43c7-aa6d-080436ee420c",
   "metadata": {},
   "source": [
    "Note that `Python` uses `0-based indexing` meaning that the first element in a list is the `0th` index. "
   ]
  },
  {
   "cell_type": "code",
   "execution_count": null,
   "id": "26730fcd-1d22-463c-9062-3d8ee8d3c946",
   "metadata": {},
   "outputs": [],
   "source": [
    "x[0]"
   ]
  },
  {
   "cell_type": "markdown",
   "id": "3ad43e25-921b-4c9b-b766-a4a9a085d38b",
   "metadata": {},
   "source": [
    "To find an element in a list, we have to go through every element in the list. A list only stores the index of an element and the variable to which that index corresponds to. Also, note that we a list can hold objects of different types:"
   ]
  },
  {
   "cell_type": "code",
   "execution_count": null,
   "id": "f73936a7-3e3e-48e9-b3d6-870b1d9808c7",
   "metadata": {},
   "outputs": [],
   "source": [
    "x = ['first element', 3059, 'third element', True]\n",
    "x"
   ]
  },
  {
   "cell_type": "markdown",
   "id": "1cb97623-9b4f-47e8-a0a9-8affc156f5a8",
   "metadata": {},
   "source": [
    "We can grow this list dynamically. For example:"
   ]
  },
  {
   "cell_type": "code",
   "execution_count": null,
   "id": "74cdfc53-5130-477d-9e20-3c4e38bb12f7",
   "metadata": {},
   "outputs": [],
   "source": [
    "x = ['this list has only one element']\n",
    "print(x)\n",
    "x.append(\"lol just kidding it has 2\")\n",
    "print(x)\n",
    "x.append(\"now it has 3!\")\n",
    "print(x)\n",
    "x.append(\"Guess how many it has now\")\n",
    "print(x)"
   ]
  },
  {
   "cell_type": "markdown",
   "id": "8c3bd9b9-dbe5-454b-a24a-ea7cb3d355da",
   "metadata": {},
   "source": [
    "But importantly, I cannot access new elements of the list before they are created. For example:"
   ]
  },
  {
   "cell_type": "code",
   "execution_count": null,
   "id": "ad291ffc-73f0-4ad5-b056-2b4ae16e18c2",
   "metadata": {},
   "outputs": [],
   "source": [
    "# x[4] = \"hello!\" <-- this will fail since there is no 5th element in this list!\n",
    "# but the below will work:\n",
    "x[3] = \"hello!\"\n",
    "print(x)"
   ]
  },
  {
   "cell_type": "markdown",
   "id": "e424b007-7239-4b89-ac6c-164c79e1a5e8",
   "metadata": {},
   "source": [
    "**EXERCISE** - Complete the following code."
   ]
  },
  {
   "cell_type": "code",
   "execution_count": null,
   "id": "1ab6a7ba-ef09-41ed-b7c1-f6c10149c7f6",
   "metadata": {},
   "outputs": [],
   "source": [
    "# Make a list which contains your neighbors' names and then their birth month\n",
    "# for example: bmonth_list = [\"Arya\", \"July\", \"Chris\", \"October\"]\n",
    "# then write code to print out only the names\n",
    "# and then only print out the birth months\n",
    "\n",
    "##### WRITE CODE BELOW THIS"
   ]
  },
  {
   "cell_type": "markdown",
   "id": "90fff2de-3914-4d22-aa91-eae1841b22e8",
   "metadata": {},
   "source": [
    "## Dictionaries"
   ]
  },
  {
   "cell_type": "markdown",
   "id": "f225cc58-8687-4487-b9cd-d0b03c31c5d3",
   "metadata": {},
   "source": [
    "`Dictionaries` are very similar to lists, except now instead of associating every element with a index we associate every element with a corresponding 'key'. This key is used to 'look-up' individual values very quickly.\""
   ]
  },
  {
   "cell_type": "markdown",
   "id": "0b2fffd0-a594-4319-8288-662ff52a5916",
   "metadata": {},
   "source": [
    "We define it using curly brackets: '{}' and we define the key/value pair with a ':'. For example,"
   ]
  },
  {
   "cell_type": "code",
   "execution_count": null,
   "id": "8304519e-6289-46d4-846a-cc0420695546",
   "metadata": {},
   "outputs": [],
   "source": [
    "x = {\"key1\": \"lookup1\", \"key2\": \"lookup2\", \"key3\": \"lookup3\", 4: \"lookup4\"}\n",
    "x"
   ]
  },
  {
   "cell_type": "markdown",
   "id": "29b0f664-110b-4aa4-a1f5-6d413738125c",
   "metadata": {},
   "source": [
    "To lookup values, we pass the key into the dictionary:"
   ]
  },
  {
   "cell_type": "code",
   "execution_count": null,
   "id": "45cf8c4f-3be6-4caa-8c28-ac4c2eed7e81",
   "metadata": {},
   "outputs": [],
   "source": [
    "x['key1']"
   ]
  },
  {
   "cell_type": "code",
   "execution_count": null,
   "id": "88c6b4ba-baeb-46f5-8921-614b38f636db",
   "metadata": {},
   "outputs": [],
   "source": [
    "x[4]"
   ]
  },
  {
   "cell_type": "code",
   "execution_count": null,
   "id": "3ef4fbe7-bbfc-416a-b097-10841ea02f51",
   "metadata": {},
   "outputs": [],
   "source": [
    "x[0]"
   ]
  },
  {
   "cell_type": "markdown",
   "id": "5db28b04-53f3-48ed-a59d-449da3f62d43",
   "metadata": {},
   "source": [
    "^ a KeyError corresponds to when we attempt to lookup a non-existent key in a dictionary."
   ]
  },
  {
   "cell_type": "markdown",
   "id": "c3b8a071-61d8-40dc-9e46-bb7419fbf693",
   "metadata": {},
   "source": [
    "The benefit of a dictionary is it allows instantaneous retrieval of individual values. The downside is that it takes up a lot more space on our computer!"
   ]
  },
  {
   "cell_type": "markdown",
   "id": "675fe611-84f4-4141-ac1f-124de8b16617",
   "metadata": {},
   "source": [
    "**EXERCISE** - Complete the following code."
   ]
  },
  {
   "cell_type": "code",
   "execution_count": null,
   "id": "5351cb2c-b126-4589-97bf-468491338ef3",
   "metadata": {},
   "outputs": [],
   "source": [
    "# Make a dictionary which contains as keys birth months and as values a list with all the names of all the people born in that month\n",
    "# write code to print out all people born in 'September'\n",
    "\n",
    "##### WRITE CODE BELOW THIS"
   ]
  },
  {
   "cell_type": "markdown",
   "id": "79933d97-871a-4e06-8101-eb5cf1d04792",
   "metadata": {},
   "source": [
    "There are more, but learning how to use these simple data types will get you 99% of the way there!"
   ]
  },
  {
   "cell_type": "markdown",
   "id": "41721e5f-e4c4-4301-8c0b-4285969699da",
   "metadata": {},
   "source": [
    "# Logic Control"
   ]
  },
  {
   "cell_type": "markdown",
   "id": "9183758e-8cdb-44cb-8b8d-9650582209db",
   "metadata": {},
   "source": [
    "## If/Else Statements"
   ]
  },
  {
   "cell_type": "code",
   "execution_count": null,
   "id": "51c34362-1ecf-48e1-bfab-281e1810f15a",
   "metadata": {},
   "outputs": [],
   "source": [
    "x = 3\n",
    "if x == 3:\n",
    "    print(\"This is true!\")\n",
    "else:\n",
    "    print(\"This is not true!\")\n",
    "\n",
    "x = \"3\"\n",
    "if x == 3:\n",
    "    print(\"This is true\")\n",
    "else:\n",
    "    print(\"This is not true!\")\n",
    "\n",
    "if int(x) == 3: # Here I cast the string of 'x' into an integer and then compare that to '3'!\n",
    "    print(\"This is true\")\n",
    "else:\n",
    "    print(\"This is not true!\")\n",
    "\n",
    "if float(x) == 3: # Note that despite the comparison between a float (3.0) and an integer (3), Python knows they are equivalent\n",
    "    print(\"This is true\")\n",
    "else:\n",
    "    print(\"This is not true!\")\n",
    "\n",
    "if x != 3: # '!=' is Python shorthand for 'not equal' to\n",
    "    print(\"This is true\")\n",
    "else:\n",
    "    print(\"This is not true!\")"
   ]
  },
  {
   "cell_type": "markdown",
   "id": "c086454e-3d9d-4aa6-9172-adee70fa89dc",
   "metadata": {},
   "source": [
    "In Python, truth statements are evaluated using a double equals sign '==' and 'if/else' are keywords that have meaning. Also note the indentation and the semicolon after the statements."
   ]
  },
  {
   "cell_type": "markdown",
   "id": "322773b0-11a4-4e76-be7d-ad09be22b181",
   "metadata": {},
   "source": [
    "**EXERCISE** - Complete the following code."
   ]
  },
  {
   "cell_type": "code",
   "execution_count": null,
   "id": "efbc2209-13db-444c-9f23-afa4d2e6b222",
   "metadata": {},
   "outputs": [],
   "source": [
    "# Use the dictionary from before and write code to print \"Do you remember the 21st night of September\" \n",
    "##  if the number of people born in \"September\" is equal to 21. Otherwise, print \"Coding is soso fun\"\n",
    "#### HOW DO I GET THE NUMBER OF ITEMS IN A LIST????? AAAAAAAAH!\n",
    "\n",
    "##### WRITE CODE BELOW THIS"
   ]
  },
  {
   "cell_type": "markdown",
   "id": "0be7707b-00d7-49a0-82ec-b09e68b2557d",
   "metadata": {},
   "source": [
    "## For Loops"
   ]
  },
  {
   "cell_type": "markdown",
   "id": "bcaff663-188b-4b83-a2da-7cb2284a9271",
   "metadata": {},
   "source": [
    "For loops allow me to run a block of code over and over. I can use them to iterate over lists"
   ]
  },
  {
   "cell_type": "code",
   "execution_count": null,
   "id": "53482092-9b66-407b-bb52-1e07e60ed19c",
   "metadata": {},
   "outputs": [],
   "source": [
    "beepboop = [\"heyyy\", \"how\", \"you\", \"doin\", \"???\"]\n",
    "for i in beepboop:\n",
    "    print(i)"
   ]
  },
  {
   "cell_type": "code",
   "execution_count": null,
   "id": "b4057edb-4979-41cf-ba0e-d67aee9a617c",
   "metadata": {},
   "outputs": [],
   "source": [
    "# enumerate is a special function in Python that prints a TUPLE with the index of the element in the first\n",
    "## entry and the element in the second entry\n",
    "\n",
    "for idx, element in enumerate(beepboop):\n",
    "    \n",
    "    print(f\"{idx}\\t{element}\") # look at this sick ass looking formatting. Break it DOWN what the hell is it doing?"
   ]
  },
  {
   "cell_type": "code",
   "execution_count": null,
   "id": "48b5538b-7a86-4eb1-9d57-7cf08cade621",
   "metadata": {},
   "outputs": [],
   "source": [
    "# range is another special function in Python that given a integer returns a list with that many numbers\n",
    "for x in range(5):\n",
    "    print(\"Nice.\")"
   ]
  },
  {
   "cell_type": "code",
   "execution_count": null,
   "id": "60e89981-44f0-4596-b2c5-91b1e118abe4",
   "metadata": {},
   "outputs": [],
   "source": [
    "for x in range(5):\n",
    "    print(x)"
   ]
  },
  {
   "cell_type": "markdown",
   "id": "5f130e80-68a9-43e8-bd77-86016856cb50",
   "metadata": {},
   "source": [
    "**EXERCISE** - Complete the following code."
   ]
  },
  {
   "cell_type": "code",
   "execution_count": null,
   "id": "3b1c4e3a-7cc3-4e6c-b444-05dcb3daf02d",
   "metadata": {},
   "outputs": [],
   "source": [
    "# Use the dictionary from before and write a for loop to print a month and all the people born in that month\n",
    "## HINT: this might be helpful??? uwu idk maybe?? Unless?\n",
    "# months = [\"January\", \"February\", \"March\", \"April\", \"May\", \"June\", \"July\", \"August\", \"September\", \"October\", \"November\", \"December\"]\n",
    "\n",
    "##### WRITE CODE BELOW THIS"
   ]
  },
  {
   "cell_type": "markdown",
   "id": "ca32e7f4-b594-4baf-b227-35afd8da0e20",
   "metadata": {},
   "source": [
    "## While Loops"
   ]
  },
  {
   "cell_type": "markdown",
   "id": "72cc6de9-6b98-4050-9489-94b2f69c5410",
   "metadata": {},
   "source": [
    "While loops run indefinitely until something tells them to stop. "
   ]
  },
  {
   "cell_type": "markdown",
   "id": "1e2b79b6-102b-43f1-98c3-061914b6efba",
   "metadata": {},
   "source": [
    "**EXERCISE** - HOW many times will `x` be printed?"
   ]
  },
  {
   "cell_type": "code",
   "execution_count": null,
   "id": "7c342c59-b532-4fd0-933c-e03840bb7c84",
   "metadata": {},
   "outputs": [],
   "source": [
    "x = 5\n",
    "while x < 1000:\n",
    "    x = x * 10\n",
    "    print(x)"
   ]
  },
  {
   "cell_type": "markdown",
   "id": "86575407-4758-4da2-9317-5b0ebf0117bf",
   "metadata": {},
   "source": [
    "We can also just `break` it whenever we feel like it. Note that this also would work in a for loop.\n",
    "HOW many times will `number_of_times_run` be printed?"
   ]
  },
  {
   "cell_type": "code",
   "execution_count": null,
   "id": "1d789000-d020-41e2-9cb6-c602a526ecce",
   "metadata": {
    "jupyter": {
     "outputs_hidden": true
    }
   },
   "outputs": [],
   "source": [
    "number_of_times_run = 0\n",
    "while True:\n",
    "    number_of_times_run += 1\n",
    "    if number_of_times_run == 50:\n",
    "        break\n",
    "    print(number_of_times_run)"
   ]
  },
  {
   "cell_type": "markdown",
   "id": "4f888664-42d3-450d-af00-075da547bab4",
   "metadata": {},
   "source": [
    "**EXERCISE** - Complete the following code."
   ]
  },
  {
   "cell_type": "code",
   "execution_count": null,
   "id": "0e28b85f-2204-48f5-bb27-4275a4aef4e0",
   "metadata": {},
   "outputs": [],
   "source": [
    "# Write a while loop that adds multiples of 5 to a list (starting from 10) until we get to 500. Then break\n",
    "## Then print the list\n",
    "\n",
    "##### WRITE CODE BELOW THIS"
   ]
  },
  {
   "cell_type": "markdown",
   "id": "9e9dc7a1-3832-4c02-be55-f06004bb4963",
   "metadata": {},
   "source": [
    "# Functions"
   ]
  },
  {
   "cell_type": "markdown",
   "id": "b44304ed-3a00-4e76-ab6d-f7092d9fc05b",
   "metadata": {},
   "source": [
    "Functions define an input, perform some logic on that input, and then return an output"
   ]
  },
  {
   "cell_type": "code",
   "execution_count": null,
   "id": "b965fb27-202e-46cb-8584-d50513ddb90f",
   "metadata": {},
   "outputs": [],
   "source": [
    "def string_converter(x):\n",
    "    return \"Wow Arya is the COOLEST\"\n",
    "\n",
    "x = \"Look at this!\"\n",
    "print(x)\n",
    "print(string_converter(x))\n",
    "\n",
    "y = \"What if I do this???\"\n",
    "print(string_converter(y))"
   ]
  },
  {
   "cell_type": "code",
   "execution_count": null,
   "id": "4f47ae16-0838-4eb2-90a7-cbc6283920e1",
   "metadata": {},
   "outputs": [],
   "source": [
    "# Let's do something a bit more complex.\n",
    "## we can even set default values in a function \n",
    "def multiplier(x=5, y=3):\n",
    "    return x*y\n",
    "\n",
    "print(multiplier(4, 5))\n",
    "print(multiplier(4, \"5\"))\n",
    "print(multiplier())"
   ]
  },
  {
   "cell_type": "markdown",
   "id": "1da354f0-af59-4cc0-89b9-6856d6ec6585",
   "metadata": {},
   "source": [
    "**EXERCISE** - Complete the following code."
   ]
  },
  {
   "cell_type": "code",
   "execution_count": null,
   "id": "d624e5e1-14c8-474e-a30f-422b6a273abc",
   "metadata": {},
   "outputs": [],
   "source": [
    "# Write a function that takes as input two integers. Then, it adds them and checks if the resulting sum is an even number.\n",
    "## If it is return it. Else return \"LOLNOTEVENIAINTSAYINGSHIT\"\n",
    "\n",
    "##### WRITE CODE BELOW THIS"
   ]
  },
  {
   "cell_type": "markdown",
   "id": "88346e48-86b3-46b1-9fe4-e3328b049386",
   "metadata": {},
   "source": [
    "**EXERCISE** - Complete the following code."
   ]
  },
  {
   "cell_type": "code",
   "execution_count": null,
   "id": "a6ec28de-8792-4693-a570-09bab78d5bb0",
   "metadata": {},
   "outputs": [],
   "source": [
    "# Write a function that takes as input an integer and then returns the fibonacci sequence at that point.\n",
    "\n",
    "## fib(0) = 0, fib(1) = 1, fib(2) = fib(0) + fib(1),..., fib(N) = fib(N-1) + fib(N-2)\n",
    "\n",
    "##### WRITE CODE BELOW THIS"
   ]
  },
  {
   "cell_type": "code",
   "execution_count": null,
   "id": "f31f0f61-f7ff-4822-9378-3fd7e73c9582",
   "metadata": {},
   "outputs": [],
   "source": []
  }
 ],
 "metadata": {
  "kernelspec": {
   "display_name": "Python 3 (ipykernel)",
   "language": "python",
   "name": "python3"
  },
  "language_info": {
   "codemirror_mode": {
    "name": "ipython",
    "version": 3
   },
   "file_extension": ".py",
   "mimetype": "text/x-python",
   "name": "python",
   "nbconvert_exporter": "python",
   "pygments_lexer": "ipython3",
   "version": "3.9.16"
  }
 },
 "nbformat": 4,
 "nbformat_minor": 5
}
